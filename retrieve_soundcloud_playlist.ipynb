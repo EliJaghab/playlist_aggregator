{
 "cells": [
  {
   "cell_type": "code",
   "execution_count": 54,
   "metadata": {},
   "outputs": [],
   "source": [
    "import requests\n",
    "import time\n",
    "from bs4 import BeautifulSoup\n",
    "from selenium import webdriver "
   ]
  },
  {
   "cell_type": "code",
   "execution_count": 76,
   "metadata": {},
   "outputs": [],
   "source": [
    "SOUNDCLOUD_URL = \"https://soundcloud.com/soundcloud-the-peak/sets/on-the-up-new-edm-hits\"\n",
    "APPLE_URL = \"https://music.apple.com/us/playlist/dancexl/pl.6bf4415b83ce4f3789614ac4c3675740\"\n",
    "SPOTIFY_URL = \"https://open.spotify.com/playlist/37i9dQZF1DX4dyzvuaRJ0n\""
   ]
  },
  {
   "cell_type": "code",
   "execution_count": 104,
   "metadata": {},
   "outputs": [],
   "source": [
    "class Extractor:\n",
    "    def __init__(self):\n",
    "        self.driver = webdriver.Chrome()\n",
    "        self.scroll_height = 20000\n",
    "    \n",
    "    def retrieve_full_html(self, url, scroll = False):\n",
    "        self.driver.get(url)\n",
    "\n",
    "        time.sleep(2)\n",
    "\n",
    "        if not scroll:\n",
    "            return self.driver.page_source\n",
    "        \n",
    "        self.driver.execute_script(f\"window.scrollTo(0, {self.scroll_height});\")\n",
    "        time.sleep(1)\n",
    "        self.driver.execute_script(f\"window. scrollTo(0, {self.scroll_height});\")\n",
    "        return self.driver.page_source\n",
    "    \n",
    "    def soupify(self, url, scroll = False):\n",
    "        return BeautifulSoup(self.retrieve_full_html(url, scroll))\n",
    "\n",
    "    def retrieve_soundcloud_items(soup: BeautifulSoup):\n",
    "        track_items = soup.find('ul', class_='trackList__list sc-clearfix sc-list-nostyle')\n",
    "\n",
    "        # Iterate over each track item and extract details\n",
    "        data = []\n",
    "\n",
    "        for track_item in track_items.find_all('li', recursive=True):\n",
    "            try:\n",
    "                # Extract track number\n",
    "                track_number = track_item.find('span', class_='trackItem__number').get_text(strip=True)\n",
    "                \n",
    "                # Extract artist name\n",
    "                artist_name = track_item.find('a', class_='trackItem__username').get_text(strip=True)\n",
    "                \n",
    "                # Extract song title\n",
    "                song_title = track_item.find('a', class_='trackItem__trackTitle').get_text(strip=True)\n",
    "                \n",
    "                # Extract album cover URL\n",
    "                style_attribute = track_item.find('span', class_='sc-artwork')['style']\n",
    "                url = style_attribute.split('\"')[1]\n",
    "                \n",
    "                # Storing the data in a dictionary and appending it to the list\n",
    "                data.append({\n",
    "                    'track_number': track_number,\n",
    "                    'artist_name': artist_name,\n",
    "                    'song_title': song_title,\n",
    "                    'album_cover_url': url\n",
    "                })\n",
    "                return data\n",
    "            except Exception as e:\n",
    "                print(f\"Could not extract data for a track item due to error: {e}\")\n",
    "                return None\n",
    "\n",
    "sd = Extractor()\n",
    "soup = sd.soupify(SOUNDCLOUD_URL, True)"
   ]
  },
  {
   "cell_type": "code",
   "execution_count": 108,
   "metadata": {},
   "outputs": [],
   "source": [
    "artist_tags = soup.find_all('a', class_='trackItem__username sc-link-light sc-link-secondary sc-mr-0.5x')\n"
   ]
  },
  {
   "cell_type": "code",
   "execution_count": 110,
   "metadata": {},
   "outputs": [
    {
     "data": {
      "text/plain": [
       "60"
      ]
     },
     "execution_count": 110,
     "metadata": {},
     "output_type": "execute_result"
    }
   ],
   "source": [
    "len(artist_tags)"
   ]
  },
  {
   "cell_type": "code",
   "execution_count": null,
   "metadata": {},
   "outputs": [],
   "source": []
  }
 ],
 "metadata": {
  "kernelspec": {
   "display_name": "venv",
   "language": "python",
   "name": "python3"
  },
  "language_info": {
   "codemirror_mode": {
    "name": "ipython",
    "version": 3
   },
   "file_extension": ".py",
   "mimetype": "text/x-python",
   "name": "python",
   "nbconvert_exporter": "python",
   "pygments_lexer": "ipython3",
   "version": "3.10.9"
  },
  "orig_nbformat": 4
 },
 "nbformat": 4,
 "nbformat_minor": 2
}
