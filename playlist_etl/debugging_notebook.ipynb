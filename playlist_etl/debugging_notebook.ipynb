{
 "cells": [
  {
   "cell_type": "code",
   "execution_count": 1,
   "metadata": {},
   "outputs": [
    {
     "name": "stdout",
     "output_type": "stream",
     "text": [
      "Requirement already satisfied: webdriver_manager in /Users/eli/.pyenv/versions/3.10.9/lib/python3.10/site-packages (4.0.2)\n",
      "Requirement already satisfied: requests in /Users/eli/.pyenv/versions/3.10.9/lib/python3.10/site-packages (from webdriver_manager) (2.32.2)\n",
      "Requirement already satisfied: python-dotenv in /Users/eli/.pyenv/versions/3.10.9/lib/python3.10/site-packages (from webdriver_manager) (1.0.0)\n",
      "Requirement already satisfied: packaging in /Users/eli/.pyenv/versions/3.10.9/lib/python3.10/site-packages (from webdriver_manager) (23.2)\n",
      "Requirement already satisfied: charset-normalizer<4,>=2 in /Users/eli/.pyenv/versions/3.10.9/lib/python3.10/site-packages (from requests->webdriver_manager) (3.2.0)\n",
      "Requirement already satisfied: idna<4,>=2.5 in /Users/eli/.pyenv/versions/3.10.9/lib/python3.10/site-packages (from requests->webdriver_manager) (3.4)\n",
      "Requirement already satisfied: urllib3<3,>=1.21.1 in /Users/eli/.pyenv/versions/3.10.9/lib/python3.10/site-packages (from requests->webdriver_manager) (2.0.4)\n",
      "Requirement already satisfied: certifi>=2017.4.17 in /Users/eli/.pyenv/versions/3.10.9/lib/python3.10/site-packages (from requests->webdriver_manager) (2023.7.22)\n",
      "Note: you may need to restart the kernel to use updated packages.\n"
     ]
    }
   ],
   "source": [
    "%pip install webdriver_manager"
   ]
  },
  {
   "cell_type": "code",
   "execution_count": 2,
   "metadata": {},
   "outputs": [
    {
     "name": "stderr",
     "output_type": "stream",
     "text": [
      "09-28 20:09:02 - INFO - set_secrets() - env_path/Users/eli/github/tunemeld/.env.dev\n"
     ]
    }
   ],
   "source": [
    "import sys\n",
    "import os\n",
    "\n",
    "current_dir = os.getcwd()\n",
    "\n",
    "parent_dir = os.path.abspath(os.path.join(current_dir, '..'))\n",
    "sys.path.append(parent_dir)\n",
    "\n",
    "from playlist_etl.utils import *\n",
    "from playlist_etl.transform import *\n",
    "from playlist_etl.extract import *\n",
    "from playlist_etl.view_count import *\n",
    "\n",
    "set_secrets()"
   ]
  },
  {
   "cell_type": "code",
   "execution_count": 3,
   "metadata": {},
   "outputs": [],
   "source": [
    "#mongo_client = get_mongo_client()\n",
    "\n",
    "#raw_playlists = read_data_from_mongo(mongo_client, VIEW_COUNTS_COLLECTION)"
   ]
  },
  {
   "cell_type": "code",
   "execution_count": 4,
   "metadata": {},
   "outputs": [
    {
     "name": "stdout",
     "output_type": "stream",
     "text": [
      "/html[@class='no-focus-outline spotify__os--is-macos spotify__container--is-web']/body[@class='encore-dark-theme encore-layout-themes']/div[@id='main']/div[@class='Root global-nav']/div[@class='ZQftYELq0aOsg6tPbVbV']/div[@class='jEMA2gVoLgPQqAFrPhFw']/div[@class='main-view-container']/div[@class='main-view-container__scroll-node']/div[2]/div[@class='main-view-container__scroll-node-child']/main[@class='T0fKO6B7LQSCE_VaSM1P']/section/div[@class='NXiYChVp4Oydfxd7rT5r RMDSGDMFrx8eXHpFphqG']/div[@class='iWTIFTzhRZT0rCD0_gOK contentSpacing']/div[@class='RP2rRchy4i8TIp1CTmb7']/div[@class='blfR_YJUsKUvdgTejBSb']/span[@class='encore-text encore-text-body-small encore-internal-color-text-subdued w1TBi3o5CTM7zW1EB3Bm T3DGgMGXmTVmosRbZymu'][4]\n"
     ]
    },
    {
     "name": "stderr",
     "output_type": "stream",
     "text": [
      "09-28 20:09:03 - INFO - find_element_by_xpath() - Attempting to find element on URL: https://open.spotify.com/track/7Fzl7QaTu47WyP9R5S5mh5 using XPath: /html[@class='no-focus-outline spotify__os--is-macos spotify__container--is-web']/body[@class='encore-dark-theme encore-layout-themes']/div[@id='main']/div[@class='Root global-nav']/div[@class='ZQftYELq0aOsg6tPbVbV']/div[@class='jEMA2gVoLgPQqAFrPhFw']/div[@class='main-view-container']/div[@class='main-view-container__scroll-node']/div[2]/div[@class='main-view-container__scroll-node-child']/main[@class='T0fKO6B7LQSCE_VaSM1P']/section/div[@class='NXiYChVp4Oydfxd7rT5r RMDSGDMFrx8eXHpFphqG']/div[@class='iWTIFTzhRZT0rCD0_gOK contentSpacing']/div[@class='RP2rRchy4i8TIp1CTmb7']/div[@class='blfR_YJUsKUvdgTejBSb']/span[@class='encore-text encore-text-body-small encore-internal-color-text-subdued w1TBi3o5CTM7zW1EB3Bm T3DGgMGXmTVmosRbZymu'][4]\n",
      "09-28 20:09:03 - INFO - _attempt_find_element() - Navigating to URL: https://open.spotify.com/track/7Fzl7QaTu47WyP9R5S5mh5\n",
      "09-28 20:09:05 - INFO - _attempt_find_element() - Successfully found element text: 124,957,050\n",
      "09-28 20:09:05 - INFO - get_spotify_track_view_count() - original spotify play count value 124,957,050\n",
      "09-28 20:09:05 - INFO - get_spotify_track_view_count() - 124957050\n"
     ]
    },
    {
     "data": {
      "text/plain": [
       "124957050"
      ]
     },
     "execution_count": 4,
     "metadata": {},
     "output_type": "execute_result"
    }
   ],
   "source": [
    "webdriver = WebDriverManager()\n",
    "get_spotify_track_view_count(\"https://open.spotify.com/track/7Fzl7QaTu47WyP9R5S5mh5\", webdriver)"
   ]
  },
  {
   "cell_type": "code",
   "execution_count": null,
   "metadata": {},
   "outputs": [],
   "source": []
  },
  {
   "cell_type": "code",
   "execution_count": null,
   "metadata": {},
   "outputs": [],
   "source": []
  },
  {
   "cell_type": "code",
   "execution_count": null,
   "metadata": {},
   "outputs": [],
   "source": []
  },
  {
   "cell_type": "code",
   "execution_count": null,
   "metadata": {},
   "outputs": [],
   "source": []
  }
 ],
 "metadata": {
  "kernelspec": {
   "display_name": "Python 3",
   "language": "python",
   "name": "python3"
  },
  "language_info": {
   "codemirror_mode": {
    "name": "ipython",
    "version": 3
   },
   "file_extension": ".py",
   "mimetype": "text/x-python",
   "name": "python",
   "nbconvert_exporter": "python",
   "pygments_lexer": "ipython3",
   "version": "3.10.9"
  }
 },
 "nbformat": 4,
 "nbformat_minor": 2
}
