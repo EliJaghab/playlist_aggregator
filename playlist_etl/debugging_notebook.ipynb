{
 "cells": [
  {
   "cell_type": "code",
   "execution_count": 1,
   "metadata": {},
   "outputs": [
    {
     "name": "stdout",
     "output_type": "stream",
     "text": [
      "Requirement already satisfied: webdriver_manager in /Users/eli/.pyenv/versions/3.10.9/lib/python3.10/site-packages (4.0.2)\n",
      "Requirement already satisfied: requests in /Users/eli/.pyenv/versions/3.10.9/lib/python3.10/site-packages (from webdriver_manager) (2.32.2)\n",
      "Requirement already satisfied: python-dotenv in /Users/eli/.pyenv/versions/3.10.9/lib/python3.10/site-packages (from webdriver_manager) (1.0.0)\n",
      "Requirement already satisfied: packaging in /Users/eli/.pyenv/versions/3.10.9/lib/python3.10/site-packages (from webdriver_manager) (23.2)\n",
      "Requirement already satisfied: charset-normalizer<4,>=2 in /Users/eli/.pyenv/versions/3.10.9/lib/python3.10/site-packages (from requests->webdriver_manager) (3.2.0)\n",
      "Requirement already satisfied: idna<4,>=2.5 in /Users/eli/.pyenv/versions/3.10.9/lib/python3.10/site-packages (from requests->webdriver_manager) (3.4)\n",
      "Requirement already satisfied: urllib3<3,>=1.21.1 in /Users/eli/.pyenv/versions/3.10.9/lib/python3.10/site-packages (from requests->webdriver_manager) (2.0.4)\n",
      "Requirement already satisfied: certifi>=2017.4.17 in /Users/eli/.pyenv/versions/3.10.9/lib/python3.10/site-packages (from requests->webdriver_manager) (2023.7.22)\n",
      "Note: you may need to restart the kernel to use updated packages.\n"
     ]
    }
   ],
   "source": [
    "%pip install webdriver_manager"
   ]
  },
  {
   "cell_type": "code",
   "execution_count": 2,
   "metadata": {},
   "outputs": [
    {
     "name": "stderr",
     "output_type": "stream",
     "text": [
      "09-28 20:23:36 - INFO - set_secrets() - env_path/Users/eli/github/tunemeld/.env.dev\n"
     ]
    }
   ],
   "source": [
    "import sys\n",
    "import os\n",
    "\n",
    "current_dir = os.getcwd()\n",
    "\n",
    "parent_dir = os.path.abspath(os.path.join(current_dir, '..'))\n",
    "sys.path.append(parent_dir)\n",
    "\n",
    "from playlist_etl.utils import *\n",
    "from playlist_etl.transform import *\n",
    "from playlist_etl.extract import *\n",
    "from playlist_etl.view_count import get_spotify_track_view_count, SPOTIFY_VIEW_COUNT_XPATH\n",
    "\n",
    "set_secrets()"
   ]
  },
  {
   "cell_type": "code",
   "execution_count": 3,
   "metadata": {},
   "outputs": [],
   "source": [
    "#mongo_client = get_mongo_client()\n",
    "\n",
    "#raw_playlists = read_data_from_mongo(mongo_client, VIEW_COUNTS_COLLECTION)"
   ]
  },
  {
   "cell_type": "code",
   "execution_count": 33,
   "metadata": {},
   "outputs": [],
   "source": [
    "SPOTIFY_VIEW_COUNT_XPATH = '(//*[contains(concat(\" \", @class, \" \"), concat(\" \", \"T3DGgMGXmTVmosRbZymu\", \" \"))])[4]'"
   ]
  },
  {
   "cell_type": "code",
   "execution_count": 34,
   "metadata": {},
   "outputs": [],
   "source": [
    "def get_spotify_track_view_count(url: str, webdriver_manager: WebDriverManager) -> int:\n",
    "    try:\n",
    "        logging.info(SPOTIFY_VIEW_COUNT_XPATH)\n",
    "        play_count_info = webdriver_manager.find_element_by_xpath(url, SPOTIFY_VIEW_COUNT_XPATH)\n",
    "        if play_count_info:\n",
    "            logger.info(f\"original spotify play count value {play_count_info}\")\n",
    "            play_count = int(play_count_info.replace(\",\", \"\"))\n",
    "            logger.info(play_count)\n",
    "            return play_count\n",
    "    except Exception as e:\n",
    "        print(f\"Error with xpath {SPOTIFY_VIEW_COUNT_XPATH}: {e}\")\n",
    "\n",
    "    raise ValueError(f\"Could not find play count for {url}\")"
   ]
  },
  {
   "cell_type": "code",
   "execution_count": 35,
   "metadata": {},
   "outputs": [
    {
     "name": "stderr",
     "output_type": "stream",
     "text": [
      "09-28 20:34:46 - INFO - find_element_by_xpath() - Attempting to find element on URL: https://open.spotify.com/track/7Fzl7QaTu47WyP9R5S5mh5 using XPath: (//*[contains(concat(\" \", @class, \" \"), concat(\" \", \"T3DGgMGXmTVmosRbZymu\", \" \"))])[4]\n",
      "INFO:playlist_etl.utils:Attempting to find element on URL: https://open.spotify.com/track/7Fzl7QaTu47WyP9R5S5mh5 using XPath: (//*[contains(concat(\" \", @class, \" \"), concat(\" \", \"T3DGgMGXmTVmosRbZymu\", \" \"))])[4]\n",
      "09-28 20:34:46 - INFO - _attempt_find_element() - Navigating to URL: https://open.spotify.com/track/7Fzl7QaTu47WyP9R5S5mh5\n",
      "INFO:playlist_etl.utils:Navigating to URL: https://open.spotify.com/track/7Fzl7QaTu47WyP9R5S5mh5\n",
      "09-28 20:34:48 - INFO - _attempt_find_element() - Successfully found element text: 124,957,050\n",
      "INFO:playlist_etl.utils:Successfully found element text: 124,957,050\n",
      "09-28 20:34:48 - INFO - get_spotify_track_view_count() - original spotify play count value 124,957,050\n",
      "INFO:playlist_etl.extract:original spotify play count value 124,957,050\n",
      "09-28 20:34:48 - INFO - get_spotify_track_view_count() - 124957050\n",
      "INFO:playlist_etl.extract:124957050\n"
     ]
    },
    {
     "data": {
      "text/plain": [
       "124957050"
      ]
     },
     "execution_count": 35,
     "metadata": {},
     "output_type": "execute_result"
    }
   ],
   "source": [
    "webdriver = WebDriverManager()\n",
    "get_spotify_track_view_count(\"https://open.spotify.com/track/7Fzl7QaTu47WyP9R5S5mh5\", webdriver)"
   ]
  },
  {
   "cell_type": "code",
   "execution_count": null,
   "metadata": {},
   "outputs": [],
   "source": []
  },
  {
   "cell_type": "code",
   "execution_count": null,
   "metadata": {},
   "outputs": [],
   "source": []
  },
  {
   "cell_type": "code",
   "execution_count": null,
   "metadata": {},
   "outputs": [],
   "source": []
  },
  {
   "cell_type": "code",
   "execution_count": null,
   "metadata": {},
   "outputs": [],
   "source": []
  }
 ],
 "metadata": {
  "kernelspec": {
   "display_name": "Python 3",
   "language": "python",
   "name": "python3"
  },
  "language_info": {
   "codemirror_mode": {
    "name": "ipython",
    "version": 3
   },
   "file_extension": ".py",
   "mimetype": "text/x-python",
   "name": "python",
   "nbconvert_exporter": "python",
   "pygments_lexer": "ipython3",
   "version": "3.10.9"
  }
 },
 "nbformat": 4,
 "nbformat_minor": 2
}
